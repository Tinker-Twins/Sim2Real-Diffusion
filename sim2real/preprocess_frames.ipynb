{
 "cells": [
  {
   "cell_type": "code",
   "execution_count": 1,
   "metadata": {},
   "outputs": [],
   "source": [
    "import os\n",
    "import re\n",
    "from PIL import Image\n",
    "from tqdm import trange"
   ]
  },
  {
   "cell_type": "code",
   "execution_count": 2,
   "metadata": {},
   "outputs": [
    {
     "name": "stderr",
     "output_type": "stream",
     "text": [
      "Processing frames: 100%|████████████████████████████████████| 1140/1140 [00:00 < 00:00, 1335.92it/s]\n"
     ]
    }
   ],
   "source": [
    "# Directory paths\n",
    "script_dir = os.getcwd() # Get the current directory where the script is located\n",
    "image_folder = os.path.join(script_dir, \"selected\") # Load input frames from here\n",
    "output_folder = os.path.join(script_dir, \"processed\") # Store output results here\n",
    "os.makedirs(output_folder, exist_ok=True) # Create the directory if it doesn't exist\n",
    "\n",
    "# List all image files in the input folder\n",
    "image_files = sorted(\n",
    "    [f for f in os.listdir(image_folder) if f.lower().endswith(('.png', '.jpg', '.jpeg', '.bmp'))],\n",
    "    key=lambda f: int(re.search(r'\\((\\d+)\\)', f).group(1))\n",
    ")\n",
    "# Sub-sampling\n",
    "skip_frames = 4 # Skip these many frames while exporting\n",
    "\n",
    "# Preprocess and save the frames\n",
    "for i in trange(len(image_files), desc=\"Processing frames\", ncols=100, bar_format=\"{l_bar}{bar}| {n_fmt}/{total_fmt} [{elapsed} < {remaining}, {rate_fmt}]\"):\n",
    "    if (i%skip_frames==0):\n",
    "        image_path = os.path.join(image_folder, image_files[i]) # Get image path\n",
    "        image = Image.open(image_path) # Load image\n",
    "        image = image.crop((0, 205, 640, 480)) # Crop the image\n",
    "        image.save(os.path.join(output_folder, (str(int(i/skip_frames+1))+\".jpg\"))) # Save the result"
   ]
  }
 ],
 "metadata": {
  "kernelspec": {
   "display_name": "nerfstudio",
   "language": "python",
   "name": "python3"
  },
  "language_info": {
   "codemirror_mode": {
    "name": "ipython",
    "version": 3
   },
   "file_extension": ".py",
   "mimetype": "text/x-python",
   "name": "python",
   "nbconvert_exporter": "python",
   "pygments_lexer": "ipython3",
   "version": "3.8.20"
  }
 },
 "nbformat": 4,
 "nbformat_minor": 2
}
